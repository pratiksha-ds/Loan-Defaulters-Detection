{
 "cells": [
  {
   "cell_type": "code",
   "execution_count": 12,
   "id": "4313e7ee",
   "metadata": {},
   "outputs": [],
   "source": [
    "import pandas as pd \n",
    "\n",
    "import numpy as np\n",
    "\n",
    "import matplotlib.pyplot as plt\n",
    "from matplotlib.colors import ListedColormap\n",
    "\n",
    "import seaborn as sns\n",
    "\n",
    "from warnings import filterwarnings\n",
    "filterwarnings('ignore')\n",
    "\n",
    "pd.options.display.max_columns = None\n",
    "\n",
    "pd.options.display.max_rows = None\n",
    " \n",
    "pd.options.display.float_format = '{:.6f}'.format\n",
    "\n",
    "from sklearn.model_selection import train_test_split\n",
    "\n",
    "import statsmodels\n",
    "import statsmodels.api as sm\n",
    "\n",
    "from sklearn.preprocessing import StandardScaler\n",
    "\n",
    "from sklearn import metrics\n",
    "from sklearn.linear_model import LogisticRegression\n",
    "from sklearn.metrics import classification_report\n",
    "from sklearn.metrics import cohen_kappa_score\n",
    "from sklearn.metrics import confusion_matrix\n",
    "from sklearn.metrics import roc_curve\n",
    "from sklearn.metrics import accuracy_score\n",
    "plt.rcParams['figure.figsize'] = [15,8]\n",
    "\n",
    "from sklearn.metrics import classification_report\n",
    "from sklearn.tree import DecisionTreeClassifier\n",
    "from sklearn.ensemble import RandomForestClassifier\n",
    "from sklearn import tree\n",
    "from sklearn.model_selection import GridSearchCV\n",
    "\n",
    "from sklearn.metrics import roc_auc_score\n",
    "from sklearn.neighbors import KNeighborsClassifier\n",
    "from sklearn.naive_bayes import GaussianNB\n",
    "from sklearn.model_selection import GridSearchCV\n",
    "from sklearn.model_selection import cross_val_score \n",
    "\n",
    "import pydotplus\n",
    "from IPython.display import Image  \n",
    "from imblearn.over_sampling import SMOTE\n",
    "\n",
    "from sklearn.preprocessing import StandardScaler \n",
    "from sklearn.preprocessing import MinMaxScaler\n",
    "\n",
    "import statsmodels\n",
    "import statsmodels.api as sm\n",
    "\n",
    "from sklearn.preprocessing import StandardScaler\n",
    "\n",
    "# import various functions from sklearn \n",
    "from sklearn import metrics\n",
    "from sklearn.metrics import classification_report\n",
    "from sklearn.metrics import confusion_matrix\n",
    "from sklearn.metrics import roc_curve\n",
    "from sklearn.metrics import roc_auc_score\n",
    "from sklearn.neighbors import KNeighborsClassifier\n",
    "from sklearn.naive_bayes import GaussianNB\n",
    "from sklearn.model_selection import GridSearchCV\n",
    "from sklearn.model_selection import cross_val_score \n",
    "from imblearn.over_sampling import SMOTE\n",
    "\n",
    "from sklearn.metrics import classification_report\n",
    "from sklearn.metrics import confusion_matrix\n",
    "from sklearn.metrics import roc_curve\n",
    "from sklearn.metrics import roc_auc_score\n",
    "from sklearn.ensemble import AdaBoostClassifier\n",
    "from sklearn.ensemble import GradientBoostingClassifier\n",
    "from sklearn.model_selection import GridSearchCV\n",
    "from sklearn.ensemble import StackingClassifier\n",
    "from sklearn.ensemble import RandomForestClassifier\n",
    "from sklearn.neighbors import KNeighborsClassifier\n",
    "from sklearn.naive_bayes import GaussianNB\n",
    "\n",
    "# import the XGBoost function for classification\n",
    "from xgboost import XGBClassifier\n",
    "\n",
    "from sklearn.discriminant_analysis import LinearDiscriminantAnalysis as LDA\n",
    "from imblearn import under_sampling, over_sampling\n",
    "from imblearn.over_sampling import SMOTE"
   ]
  },
  {
   "cell_type": "code",
   "execution_count": 13,
   "id": "1db3f786",
   "metadata": {},
   "outputs": [],
   "source": [
    "score_card = pd.DataFrame(columns=['Model Name', 'AUC Score', 'Precision Score', 'Recall Score',\n",
    "                                       'Accuracy Score', 'Kappa Score', 'f1-score'])"
   ]
  },
  {
   "cell_type": "code",
   "execution_count": 14,
   "id": "86d7ed50",
   "metadata": {},
   "outputs": [],
   "source": [
    "def update_score_card(model, y_test,y_pred):\n",
    "    global score_card\n",
    "\n",
    "    score_card=score_card.append({'Model Name': model,\n",
    "                                    'AUC Score' : metrics.roc_auc_score(y_test, y_pred),\n",
    "                                    'Precision Score': metrics.precision_score(y_test, y_pred),\n",
    "                                    'Recall Score': metrics.recall_score(y_test, y_pred),\n",
    "                                    'Accuracy Score': metrics.accuracy_score(y_test, y_pred),\n",
    "                                    'Kappa Score':metrics.cohen_kappa_score(y_test, y_pred),\n",
    "                                    'f1-score': metrics.f1_score(y_test, y_pred)}, \n",
    "                                    ignore_index = True)"
   ]
  },
  {
   "cell_type": "code",
   "execution_count": 15,
   "id": "2e9dca8d",
   "metadata": {},
   "outputs": [],
   "source": [
    "df=pd.read_csv('df_ZScaled_Dummy_Encoded.csv')\n",
    "df_target = df['loan_status']\n",
    "df_features= df.drop('loan_status',axis=1)"
   ]
  },
  {
   "cell_type": "code",
   "execution_count": 16,
   "id": "d76a6f5d",
   "metadata": {},
   "outputs": [
    {
     "name": "stdout",
     "output_type": "stream",
     "text": [
      "x_train:  (372439, 34)\n",
      "y_train:  (372439,)\n",
      "x_test:  (159618, 34)\n",
      "y_test:  (159618,)\n"
     ]
    }
   ],
   "source": [
    "df_1 = sm.add_constant(df_features)\n",
    "x_train, x_test ,y_train ,y_test = train_test_split(df_1,df_target, random_state=1, test_size=0.3)\n",
    "print('x_train: ',x_train.shape)\n",
    "print('y_train: ',y_train.shape)\n",
    "print('x_test: ',x_test.shape)\n",
    "print('y_test: ',y_test.shape)"
   ]
  },
  {
   "cell_type": "markdown",
   "id": "687a5dad",
   "metadata": {},
   "source": [
    "### Logistic Regression without SMOTE"
   ]
  },
  {
   "cell_type": "code",
   "execution_count": 132,
   "id": "f693765b",
   "metadata": {},
   "outputs": [
    {
     "name": "stdout",
     "output_type": "stream",
     "text": [
      "Warning: Maximum number of iterations has been exceeded.\n",
      "         Current function value: 0.458857\n",
      "         Iterations: 35\n"
     ]
    }
   ],
   "source": [
    "logreg = sm.Logit(y_train,x_train).fit()\n",
    "y_pred_prob = logreg.predict(x_test)\n",
    "y_pred = [ 0 if x < 0.5 else 1 for x in y_pred_prob]"
   ]
  },
  {
   "cell_type": "code",
   "execution_count": 133,
   "id": "5b93f45d",
   "metadata": {},
   "outputs": [],
   "source": [
    "update_score_card('Logistic Regression', y_test,y_pred)"
   ]
  },
  {
   "cell_type": "markdown",
   "id": "283be828",
   "metadata": {},
   "source": [
    "### Decision Tree without SMOTE"
   ]
  },
  {
   "cell_type": "code",
   "execution_count": 17,
   "id": "347806e2",
   "metadata": {},
   "outputs": [],
   "source": [
    "x_train, x_test ,y_train ,y_test = train_test_split(df_features,df_target, random_state=1, test_size=0.3)\n",
    "print('x_train: ',x_train.shape)\n",
    "print('y_train: ',y_train.shape)\n",
    "print('x_test: ',x_test.shape)\n",
    "print('y_test: ',y_test.shape)"
   ]
  },
  {
   "cell_type": "code",
   "execution_count": 18,
   "id": "45137f13",
   "metadata": {},
   "outputs": [],
   "source": [
    "decision_tree_classification = DecisionTreeClassifier(criterion = 'gini', random_state = 10)\n",
    "decision_tree = decision_tree_classification.fit(x_train, y_train)\n",
    "y_pred= decision_tree.predict(x_test)"
   ]
  },
  {
   "cell_type": "code",
   "execution_count": 19,
   "id": "1bc39ff9",
   "metadata": {},
   "outputs": [],
   "source": [
    "update_score_card('Decision Tree', y_test,y_pred)"
   ]
  },
  {
   "cell_type": "markdown",
   "id": "4c72f530",
   "metadata": {},
   "source": [
    "### Random Forest without SMOTE"
   ]
  },
  {
   "cell_type": "code",
   "execution_count": 137,
   "id": "d6c6489f",
   "metadata": {},
   "outputs": [],
   "source": [
    "rf_classification = RandomForestClassifier(n_estimators = 15, random_state = 10)\n",
    "rf_model = rf_classification.fit(x_train, y_train)\n",
    "y_pred = rf_model.predict(x_test)"
   ]
  },
  {
   "cell_type": "code",
   "execution_count": 138,
   "id": "1ab5ad6f",
   "metadata": {},
   "outputs": [],
   "source": [
    "update_score_card('Random Forest', y_test,y_pred)"
   ]
  },
  {
   "cell_type": "markdown",
   "id": "681d9fd8",
   "metadata": {},
   "source": [
    "### KNN without SMOTE"
   ]
  },
  {
   "cell_type": "code",
   "execution_count": 139,
   "id": "31acfb3b",
   "metadata": {},
   "outputs": [],
   "source": [
    "knn_classification = KNeighborsClassifier(n_neighbors = 3)\n",
    "knn_model = knn_classification.fit(x_train, y_train)\n",
    "y_pred = knn_model.predict(x_test)"
   ]
  },
  {
   "cell_type": "code",
   "execution_count": 140,
   "id": "74f6118a",
   "metadata": {},
   "outputs": [],
   "source": [
    "update_score_card('KNN', y_test,y_pred)"
   ]
  },
  {
   "cell_type": "markdown",
   "id": "e2bd6869",
   "metadata": {},
   "source": [
    "### Naive Bayes without SMOTE"
   ]
  },
  {
   "cell_type": "code",
   "execution_count": 141,
   "id": "57fabe51",
   "metadata": {},
   "outputs": [],
   "source": [
    "gnb = GaussianNB()\n",
    "gnb_model = gnb.fit(x_train, y_train)\n",
    "y_pred = gnb_model.predict(x_test)"
   ]
  },
  {
   "cell_type": "code",
   "execution_count": 142,
   "id": "d764b9a5",
   "metadata": {},
   "outputs": [],
   "source": [
    "update_score_card('Gaussian Naive Bayes', y_test,y_pred)"
   ]
  },
  {
   "cell_type": "markdown",
   "id": "f3689ed1",
   "metadata": {},
   "source": [
    "### AdaBoost without SMOTE"
   ]
  },
  {
   "cell_type": "code",
   "execution_count": 143,
   "id": "125ef4f6",
   "metadata": {},
   "outputs": [],
   "source": [
    "ada_model = AdaBoostClassifier(n_estimators = 40, random_state = 10)\n",
    "ada_model.fit(x_train, y_train)\n",
    "y_pred = ada_model.predict(x_test)"
   ]
  },
  {
   "cell_type": "code",
   "execution_count": 144,
   "id": "72e8e32a",
   "metadata": {},
   "outputs": [],
   "source": [
    "update_score_card('Ada Boost', y_test,y_pred)"
   ]
  },
  {
   "cell_type": "markdown",
   "id": "b812f2b4",
   "metadata": {},
   "source": [
    "### Gradient Boost without SMOTE"
   ]
  },
  {
   "cell_type": "code",
   "execution_count": 145,
   "id": "7da5ecdf",
   "metadata": {},
   "outputs": [],
   "source": [
    "gboost_model = GradientBoostingClassifier(n_estimators = 40, max_depth = 10, random_state = 10)\n",
    "gboost_model.fit(x_train, y_train)\n",
    "y_pred = gboost_model.predict(x_test)"
   ]
  },
  {
   "cell_type": "code",
   "execution_count": 146,
   "id": "e62744d9",
   "metadata": {},
   "outputs": [],
   "source": [
    "update_score_card('Gradient Boost', y_test,y_pred)"
   ]
  },
  {
   "cell_type": "markdown",
   "id": "237fb71a",
   "metadata": {},
   "source": [
    "### Xtreme Gradient Boost without SMOTE"
   ]
  },
  {
   "cell_type": "code",
   "execution_count": 147,
   "id": "de15ece6",
   "metadata": {},
   "outputs": [],
   "source": [
    "xgb_model = XGBClassifier(max_depth = 10, gamma = 1)\n",
    "xgb_model.fit(x_train, y_train)\n",
    "y_pred = xgb_model.predict(x_test)"
   ]
  },
  {
   "cell_type": "code",
   "execution_count": 148,
   "id": "d15f92af",
   "metadata": {},
   "outputs": [],
   "source": [
    "update_score_card('Xtreme Gradient Boost', y_test,y_pred)"
   ]
  },
  {
   "cell_type": "code",
   "execution_count": 149,
   "id": "33d3fca5",
   "metadata": {},
   "outputs": [
    {
     "data": {
      "text/html": [
       "<div>\n",
       "<style scoped>\n",
       "    .dataframe tbody tr th:only-of-type {\n",
       "        vertical-align: middle;\n",
       "    }\n",
       "\n",
       "    .dataframe tbody tr th {\n",
       "        vertical-align: top;\n",
       "    }\n",
       "\n",
       "    .dataframe thead th {\n",
       "        text-align: right;\n",
       "    }\n",
       "</style>\n",
       "<table border=\"1\" class=\"dataframe\">\n",
       "  <thead>\n",
       "    <tr style=\"text-align: right;\">\n",
       "      <th></th>\n",
       "      <th>Model Name</th>\n",
       "      <th>AUC Score</th>\n",
       "      <th>Precision Score</th>\n",
       "      <th>Recall Score</th>\n",
       "      <th>Accuracy Score</th>\n",
       "      <th>Kappa Score</th>\n",
       "      <th>f1-score</th>\n",
       "    </tr>\n",
       "  </thead>\n",
       "  <tbody>\n",
       "    <tr>\n",
       "      <th>0</th>\n",
       "      <td>Logistic Regression</td>\n",
       "      <td>0.608485</td>\n",
       "      <td>0.600493</td>\n",
       "      <td>0.272749</td>\n",
       "      <td>0.786346</td>\n",
       "      <td>0.267537</td>\n",
       "      <td>0.375117</td>\n",
       "    </tr>\n",
       "    <tr>\n",
       "      <th>1</th>\n",
       "      <td>Decision Tree</td>\n",
       "      <td>0.758356</td>\n",
       "      <td>0.616637</td>\n",
       "      <td>0.638786</td>\n",
       "      <td>0.821699</td>\n",
       "      <td>0.510363</td>\n",
       "      <td>0.627516</td>\n",
       "    </tr>\n",
       "    <tr>\n",
       "      <th>2</th>\n",
       "      <td>Random Forest</td>\n",
       "      <td>0.689690</td>\n",
       "      <td>0.831581</td>\n",
       "      <td>0.404567</td>\n",
       "      <td>0.840739</td>\n",
       "      <td>0.461436</td>\n",
       "      <td>0.544320</td>\n",
       "    </tr>\n",
       "    <tr>\n",
       "      <th>3</th>\n",
       "      <td>KNN</td>\n",
       "      <td>0.632185</td>\n",
       "      <td>0.510204</td>\n",
       "      <td>0.375043</td>\n",
       "      <td>0.768410</td>\n",
       "      <td>0.291073</td>\n",
       "      <td>0.432305</td>\n",
       "    </tr>\n",
       "    <tr>\n",
       "      <th>4</th>\n",
       "      <td>Gaussian Naive Bayes</td>\n",
       "      <td>0.529387</td>\n",
       "      <td>0.246425</td>\n",
       "      <td>0.979749</td>\n",
       "      <td>0.290801</td>\n",
       "      <td>0.028944</td>\n",
       "      <td>0.393801</td>\n",
       "    </tr>\n",
       "    <tr>\n",
       "      <th>5</th>\n",
       "      <td>Ada Boost</td>\n",
       "      <td>0.651186</td>\n",
       "      <td>0.867838</td>\n",
       "      <td>0.317221</td>\n",
       "      <td>0.828108</td>\n",
       "      <td>0.387517</td>\n",
       "      <td>0.464613</td>\n",
       "    </tr>\n",
       "    <tr>\n",
       "      <th>6</th>\n",
       "      <td>Gradient Boost</td>\n",
       "      <td>0.731237</td>\n",
       "      <td>0.922396</td>\n",
       "      <td>0.474753</td>\n",
       "      <td>0.867114</td>\n",
       "      <td>0.555902</td>\n",
       "      <td>0.626863</td>\n",
       "    </tr>\n",
       "    <tr>\n",
       "      <th>7</th>\n",
       "      <td>Xtreme Gradient Boost</td>\n",
       "      <td>0.836811</td>\n",
       "      <td>0.889882</td>\n",
       "      <td>0.700258</td>\n",
       "      <td>0.909152</td>\n",
       "      <td>0.727292</td>\n",
       "      <td>0.783764</td>\n",
       "    </tr>\n",
       "  </tbody>\n",
       "</table>\n",
       "</div>"
      ],
      "text/plain": [
       "              Model Name  AUC Score  Precision Score  Recall Score  \\\n",
       "0    Logistic Regression   0.608485         0.600493      0.272749   \n",
       "1          Decision Tree   0.758356         0.616637      0.638786   \n",
       "2          Random Forest   0.689690         0.831581      0.404567   \n",
       "3                    KNN   0.632185         0.510204      0.375043   \n",
       "4   Gaussian Naive Bayes   0.529387         0.246425      0.979749   \n",
       "5              Ada Boost   0.651186         0.867838      0.317221   \n",
       "6         Gradient Boost   0.731237         0.922396      0.474753   \n",
       "7  Xtreme Gradient Boost   0.836811         0.889882      0.700258   \n",
       "\n",
       "   Accuracy Score  Kappa Score  f1-score  \n",
       "0        0.786346     0.267537  0.375117  \n",
       "1        0.821699     0.510363  0.627516  \n",
       "2        0.840739     0.461436  0.544320  \n",
       "3        0.768410     0.291073  0.432305  \n",
       "4        0.290801     0.028944  0.393801  \n",
       "5        0.828108     0.387517  0.464613  \n",
       "6        0.867114     0.555902  0.626863  \n",
       "7        0.909152     0.727292  0.783764  "
      ]
     },
     "execution_count": 149,
     "metadata": {},
     "output_type": "execute_result"
    }
   ],
   "source": [
    "score_card"
   ]
  },
  {
   "cell_type": "markdown",
   "id": "16ee68d7",
   "metadata": {},
   "source": [
    "## USING SMOTE"
   ]
  },
  {
   "cell_type": "markdown",
   "id": "02e262ac",
   "metadata": {},
   "source": [
    "### Logistic Regression 100% SMOTE"
   ]
  },
  {
   "cell_type": "code",
   "execution_count": null,
   "id": "950f45ac",
   "metadata": {},
   "outputs": [
    {
     "name": "stdout",
     "output_type": "stream",
     "text": [
      "x_train:  (372439, 34)\n",
      "y_train:  (372439,)\n",
      "x_test:  (159618, 34)\n",
      "y_test:  (159618,)\n"
     ]
    }
   ],
   "source": [
    "df_1 = sm.add_constant(df_features)\n",
    "x_train, x_test ,y_train ,y_test = train_test_split(df_1,df_target, random_state=1, test_size=0.3)\n",
    "print('x_train: ',x_train.shape)\n",
    "print('y_train: ',y_train.shape)\n",
    "print('x_test: ',x_test.shape)\n",
    "print('y_test: ',y_test.shape)\n",
    "sme=SMOTE(random_state=42)\n",
    "x_train_sme,y_train_sme=sme.fit_resample(x_train,y_train)\n",
    "y_train_sme,x_train_sme"
   ]
  },
  {
   "cell_type": "code",
   "execution_count": null,
   "id": "57fbcac0",
   "metadata": {},
   "outputs": [],
   "source": [
    "logreg = sm.Logit(y_train_sme,x_train_sme).fit()\n",
    "y_pred_prob = logreg.predict(x_test)\n",
    "y_pred = [ 0 if x < 0.5 else 1 for x in y_pred_prob]"
   ]
  },
  {
   "cell_type": "code",
   "execution_count": null,
   "id": "1d32b79d",
   "metadata": {},
   "outputs": [],
   "source": [
    " update_score_card('Logistic Regression 100% SMOTE', y_test,y_pred)"
   ]
  },
  {
   "cell_type": "markdown",
   "id": "0820694a",
   "metadata": {},
   "source": [
    "### Decision Tree 100% SMOTE"
   ]
  },
  {
   "cell_type": "code",
   "execution_count": null,
   "id": "066de8d0",
   "metadata": {},
   "outputs": [],
   "source": [
    "x_train, x_test ,y_train ,y_test = train_test_split(df_features,df_target, random_state=1, test_size=0.3)\n",
    "print('x_train: ',x_train.shape)\n",
    "print('y_train: ',y_train.shape)\n",
    "print('x_test: ',x_test.shape)\n",
    "print('y_test: ',y_test.shape)\n",
    "sme=SMOTE(random_state=42)\n",
    "x_train_sme,y_train_sme=sme.fit_resample(x_train,y_train)\n",
    "y_train_sme,x_train_sme"
   ]
  },
  {
   "cell_type": "code",
   "execution_count": null,
   "id": "5f56cc57",
   "metadata": {},
   "outputs": [],
   "source": [
    "decision_tree_classification = DecisionTreeClassifier(criterion = 'gini', random_state = 10)\n",
    "decision_tree = decision_tree_classification.fit(x_train_sme,y_train_sme)\n",
    "y_pred= decision_tree.predict(x_test)"
   ]
  },
  {
   "cell_type": "code",
   "execution_count": null,
   "id": "bb9c3e94",
   "metadata": {},
   "outputs": [],
   "source": [
    "update_score_card('Decision Tree 100% SMOTE', y_test,y_pred)"
   ]
  },
  {
   "cell_type": "markdown",
   "id": "626fc12f",
   "metadata": {},
   "source": [
    "### Random Forest 100% SMOTE"
   ]
  },
  {
   "cell_type": "code",
   "execution_count": null,
   "id": "07464c66",
   "metadata": {},
   "outputs": [],
   "source": [
    "rf_classification = RandomForestClassifier(n_estimators = 15, random_state = 10)\n",
    "rf_model = rf_classification.fit(x_train_sme,y_train_sme)\n",
    "y_pred = rf_model.predict(x_test)"
   ]
  },
  {
   "cell_type": "code",
   "execution_count": null,
   "id": "3f49d022",
   "metadata": {},
   "outputs": [],
   "source": [
    "update_score_card('Random Forest 100% SMOTE', y_test,y_pred)"
   ]
  },
  {
   "cell_type": "markdown",
   "id": "4e70e275",
   "metadata": {},
   "source": [
    "### KNN 100% SMOTE"
   ]
  },
  {
   "cell_type": "code",
   "execution_count": null,
   "id": "a4a1e169",
   "metadata": {},
   "outputs": [],
   "source": [
    "knn_classification = KNeighborsClassifier(n_neighbors = 3)\n",
    "knn_model = knn_classification.fit(x_train_sme,y_train_sme)\n",
    "y_pred = knn_model.predict(x_test)"
   ]
  },
  {
   "cell_type": "code",
   "execution_count": null,
   "id": "8b1af3ee",
   "metadata": {},
   "outputs": [],
   "source": [
    "update_score_card('KNN 100% SMOTE', y_test,y_pred)"
   ]
  },
  {
   "cell_type": "markdown",
   "id": "70859c3e",
   "metadata": {},
   "source": [
    "### Naive Bayes 100%  SMOTE"
   ]
  },
  {
   "cell_type": "code",
   "execution_count": null,
   "id": "698eec26",
   "metadata": {},
   "outputs": [],
   "source": [
    "gnb = GaussianNB()\n",
    "gnb_model = gnb.fit(x_train_sme,y_train_sme)\n",
    "y_pred = gnb_model.predict(x_test)"
   ]
  },
  {
   "cell_type": "code",
   "execution_count": null,
   "id": "572e2a56",
   "metadata": {},
   "outputs": [],
   "source": [
    "update_score_card('Gaussian Nive Bayes 100% SMOTE', y_test,y_pred)"
   ]
  },
  {
   "cell_type": "markdown",
   "id": "99bcec2e",
   "metadata": {},
   "source": [
    "### AdaBoost 100%  SMOTE"
   ]
  },
  {
   "cell_type": "code",
   "execution_count": null,
   "id": "912bb951",
   "metadata": {},
   "outputs": [],
   "source": [
    "ada_model = AdaBoostClassifier(n_estimators = 40, random_state = 10)\n",
    "ada_model.fit(x_train_sme,y_train_sme)\n",
    "y_pred = ada_model.predict(x_test)"
   ]
  },
  {
   "cell_type": "code",
   "execution_count": null,
   "id": "95e36a30",
   "metadata": {},
   "outputs": [],
   "source": [
    "update_score_card('Ada Boost 100% SMOTE', y_test,y_pred)"
   ]
  },
  {
   "cell_type": "markdown",
   "id": "dfd1d8ed",
   "metadata": {},
   "source": [
    "### Gradient Boost 100%  SMOTE"
   ]
  },
  {
   "cell_type": "code",
   "execution_count": null,
   "id": "5823ee27",
   "metadata": {},
   "outputs": [],
   "source": [
    "gboost_model = GradientBoostingClassifier(n_estimators = 40, max_depth = 10, random_state = 10)\n",
    "gboost_model.fit(x_train_sme,y_train_sme)\n",
    "y_pred = gboost_model.predict(x_test)"
   ]
  },
  {
   "cell_type": "code",
   "execution_count": null,
   "id": "fc9d3aae",
   "metadata": {},
   "outputs": [],
   "source": [
    "update_score_card('Gradient Bosst 100% SMOTE', y_test,y_pred)"
   ]
  },
  {
   "cell_type": "markdown",
   "id": "38d9f90d",
   "metadata": {},
   "source": [
    "### Xtreme Gradient Boost 100%  SMOTE"
   ]
  },
  {
   "cell_type": "code",
   "execution_count": null,
   "id": "812959ad",
   "metadata": {},
   "outputs": [],
   "source": [
    "xgb_model = XGBClassifier(max_depth = 10, gamma = 1)\n",
    "xgb_model.fit(x_train_sme,y_train_sme)\n",
    "y_pred = xgb_model.predict(x_test)"
   ]
  },
  {
   "cell_type": "code",
   "execution_count": null,
   "id": "b6f23aa3",
   "metadata": {},
   "outputs": [],
   "source": [
    "update_score_card('Xtreme Gradient Boost 100% SMOTE', y_test,y_pred)"
   ]
  },
  {
   "cell_type": "code",
   "execution_count": null,
   "id": "30afd077",
   "metadata": {},
   "outputs": [],
   "source": [
    "score_card"
   ]
  }
 ],
 "metadata": {
  "kernelspec": {
   "display_name": "Python 3 (ipykernel)",
   "language": "python",
   "name": "python3"
  },
  "language_info": {
   "codemirror_mode": {
    "name": "ipython",
    "version": 3
   },
   "file_extension": ".py",
   "mimetype": "text/x-python",
   "name": "python",
   "nbconvert_exporter": "python",
   "pygments_lexer": "ipython3",
   "version": "3.9.12"
  }
 },
 "nbformat": 4,
 "nbformat_minor": 5
}
